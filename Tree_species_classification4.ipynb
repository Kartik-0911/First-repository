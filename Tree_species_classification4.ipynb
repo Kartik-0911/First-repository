{
  "nbformat": 4,
  "nbformat_minor": 0,
  "metadata": {
    "colab": {
      "provenance": [],
      "authorship_tag": "ABX9TyNxCBegu3wutUZxUJcI/BZq",
      "include_colab_link": true
    },
    "kernelspec": {
      "name": "python3",
      "display_name": "Python 3"
    },
    "language_info": {
      "name": "python"
    }
  },
  "cells": [
    {
      "cell_type": "markdown",
      "metadata": {
        "id": "view-in-github",
        "colab_type": "text"
      },
      "source": [
        "<a href=\"https://colab.research.google.com/github/Kartik-0911/First-repository/blob/main/Tree_species_classification4.ipynb\" target=\"_parent\"><img src=\"https://colab.research.google.com/assets/colab-badge.svg\" alt=\"Open In Colab\"/></a>"
      ]
    },
    {
      "cell_type": "code",
      "source": [
        "import kagglehub\n",
        "\n",
        "# Download latest version\n",
        "path = kagglehub.dataset_download(\"viditgandhi/tree-species-identification-dataset\")\n",
        "\n",
        "print(\"Path to dataset files:\", path)"
      ],
      "metadata": {
        "colab": {
          "base_uri": "https://localhost:8080/"
        },
        "id": "u1dxGwIwh67v",
        "outputId": "32c6fdb5-18ed-4b79-c052-e4938601b5b9"
      },
      "execution_count": null,
      "outputs": [
        {
          "output_type": "stream",
          "name": "stdout",
          "text": [
            "Path to dataset files: /kaggle/input/tree-species-identification-dataset\n"
          ]
        }
      ]
    },
    {
      "cell_type": "code",
      "source": [
        "import kagglehub\n",
        "import shutil\n",
        "import os\n",
        "\n",
        "# Download latest version of the dataset\n",
        "# This command *returns* the actual path where the dataset is located.\n",
        "# This path is likely /kaggle/input/tree-species-identification-dataset\n",
        "source_path_from_kagglehub = kagglehub.dataset_download(\"viditgandhi/tree-species-identification-dataset\")\n",
        "\n",
        "print(\"Path to dataset files as returned by kagglehub:\", source_path_from_kagglehub)\n",
        "\n",
        "# Define the source path for copying (the read-only input directory)\n",
        "source_path = source_path_from_kagglehub\n",
        "\n",
        "# Define the destination path (a writable location, like /kaggle/working/ or /content/)\n",
        "# Assuming you want it in /content/tree-species-dataset as before.\n",
        "destination_path = '/content/tree-species-dataset'\n",
        "\n",
        "# --- Key Change: Use shutil.copytree() instead of shutil.move() ---\n",
        "# Also, add a check to remove the destination if it already exists from a previous run,\n",
        "# as copytree cannot copy into an existing non-empty directory.\n",
        "\n",
        "if os.path.exists(destination_path):\n",
        "    print(f\"Destination directory {destination_path} already exists. Removing it...\")\n",
        "    try:\n",
        "        shutil.rmtree(destination_path)\n",
        "        print(\"Removed existing destination directory.\")\n",
        "    except Exception as e:\n",
        "        print(f\"Error removing existing destination directory: {e}\")\n",
        "        # If we can't remove it, we can't proceed with copytree.\n",
        "        # You might want to exit here or handle more gracefully.\n",
        "        exit() # Or raise an error to stop execution\n",
        "\n",
        "try:\n",
        "    # Copy the entire directory tree from the source to the destination\n",
        "    shutil.copytree(source_path, destination_path)\n",
        "    print(f\"Dataset copied successfully from {source_path} to {destination_path}\")\n",
        "\n",
        "except shutil.Error as e:\n",
        "    print(f\"Error copying dataset: {e}\")\n",
        "except FileNotFoundError:\n",
        "    print(f\"Source directory not found (this shouldn't happen if kagglehub.dataset_download worked): {source_path}\")\n",
        "except Exception as e:\n",
        "    print(f\"An unexpected error occurred during copy: {e}\")\n",
        "\n",
        "# Now, your dataset is available in the writable /content/tree-species-dataset directory.\n",
        "# You can perform read/write operations on files within destination_path."
      ],
      "metadata": {
        "colab": {
          "base_uri": "https://localhost:8080/"
        },
        "id": "F31nRXjmrQGp",
        "outputId": "2bf84f25-a249-4474-e190-dc59aac16bd5"
      },
      "execution_count": null,
      "outputs": [
        {
          "output_type": "stream",
          "name": "stdout",
          "text": [
            "Path to dataset files as returned by kagglehub: /kaggle/input/tree-species-identification-dataset\n",
            "Destination directory /content/tree-species-dataset already exists. Removing it...\n",
            "Removed existing destination directory.\n",
            "Dataset copied successfully from /kaggle/input/tree-species-identification-dataset to /content/tree-species-dataset\n"
          ]
        }
      ]
    }
  ]
}